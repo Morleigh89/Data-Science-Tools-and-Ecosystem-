{
 "cells": [
  {
   "cell_type": "markdown",
   "id": "d422ebc6-acd7-4e53-aa03-e2732012d7a4",
   "metadata": {},
   "source": [
    "# Data Science Tools and Ecosystem "
   ]
  },
  {
   "cell_type": "markdown",
   "id": "cb4c54d9-eebf-4e94-88a8-4fce7b2cdd84",
   "metadata": {},
   "source": [
    "In this notebook, Data Science Tools and Ecosystem are summarized."
   ]
  },
  {
   "cell_type": "markdown",
   "id": "9327760a-8f07-4b1f-a546-659e0f59cae9",
   "metadata": {},
   "source": [
    " Objectives:  List popular languages for Data Science\n",
    " -Julia\n",
    " -C++\n",
    " -SCALA\n",
    " -MATLAB\n",
    " -JAVASCRIPT "
   ]
  },
  {
   "cell_type": "markdown",
   "id": "6ea68395-ff41-4559-a4bf-2341399e8c2f",
   "metadata": {},
   "source": [
    "Some of the popular languages that Data Scientists use are:\n",
    "     1- Python\n",
    "     2-R\n",
    "     3-SQL\n",
    "     4-JAVA"
   ]
  },
  {
   "cell_type": "markdown",
   "id": "227b44cb-b5d2-4171-8b62-945cd7eef92a",
   "metadata": {},
   "source": [
    "Some of the commonly used libraries used by Data Scientists include:\n",
    "    1-MATPLOTLIB\n",
    "    2-PANDAS\n",
    "    3-SEABORN\n",
    "    4-SKLEARN\n"
   ]
  },
  {
   "cell_type": "markdown",
   "id": "2bb9d4b5-6f5b-43ba-8eca-0b4b179e5439",
   "metadata": {},
   "source": [
    "Data Science Tools. \n",
    "    1-GIT\n",
    "    2-APACHE SUBVERSIION\n",
    "    3-CHEF\n"
   ]
  },
  {
   "cell_type": "code",
   "execution_count": 3,
   "id": "1ba82cd2-31fa-4acb-9a24-4a7e17bce408",
   "metadata": {
    "tags": []
   },
   "outputs": [
    {
     "ename": "SyntaxError",
     "evalue": "invalid syntax (3542377963.py, line 1)",
     "output_type": "error",
     "traceback": [
      "\u001b[0;36m  File \u001b[0;32m\"/tmp/ipykernel_163/3542377963.py\"\u001b[0;36m, line \u001b[0;32m1\u001b[0m\n\u001b[0;31m    Below are a few examples of evaluating arithmetic expressions in Python.\u001b[0m\n\u001b[0m            ^\u001b[0m\n\u001b[0;31mSyntaxError\u001b[0m\u001b[0;31m:\u001b[0m invalid syntax\n"
     ]
    }
   ],
   "source": [
    "Below are a few examples of evaluating arithmetic expressions in Python.\n",
    "This a simple arithmetic expression to multiply then add integers.\n",
    "(3*4)+5=\n"
   ]
  },
  {
   "cell_type": "code",
   "execution_count": 4,
   "id": "8cbfe497-1617-48c1-ae28-eb4303b2d768",
   "metadata": {
    "tags": []
   },
   "outputs": [
    {
     "ename": "SyntaxError",
     "evalue": "invalid syntax (3154993950.py, line 1)",
     "output_type": "error",
     "traceback": [
      "\u001b[0;36m  File \u001b[0;32m\"/tmp/ipykernel_163/3154993950.py\"\u001b[0;36m, line \u001b[0;32m1\u001b[0m\n\u001b[0;31m    This will convert 200 minutes to hours by diving by 60.\u001b[0m\n\u001b[0m            ^\u001b[0m\n\u001b[0;31mSyntaxError\u001b[0m\u001b[0;31m:\u001b[0m invalid syntax\n"
     ]
    }
   ],
   "source": [
    " This will convert 200 minutes to hours by diving by 60.\n"
   ]
  },
  {
   "cell_type": "code",
   "execution_count": null,
   "id": "832e8dd9-d9d8-4cd7-8eb8-c06649f84989",
   "metadata": {},
   "outputs": [],
   "source": [
    "## Author \n",
    "MORGAN MILLER"
   ]
  }
 ],
 "metadata": {
  "kernelspec": {
   "display_name": "Python",
   "language": "python",
   "name": "conda-env-python-py"
  },
  "language_info": {
   "codemirror_mode": {
    "name": "ipython",
    "version": 3
   },
   "file_extension": ".py",
   "mimetype": "text/x-python",
   "name": "python",
   "nbconvert_exporter": "python",
   "pygments_lexer": "ipython3",
   "version": "3.7.12"
  }
 },
 "nbformat": 4,
 "nbformat_minor": 5
}
